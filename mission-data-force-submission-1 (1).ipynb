{
 "cells": [
  {
   "cell_type": "code",
   "execution_count": 1,
   "id": "2a04397b",
   "metadata": {
    "_cell_guid": "b1076dfc-b9ad-4769-8c92-a6c4dae69d19",
    "_uuid": "8f2839f25d086af736a60e9eeb907d3b93b6e0e5",
    "execution": {
     "iopub.execute_input": "2022-03-27T01:00:23.782747Z",
     "iopub.status.busy": "2022-03-27T01:00:23.782012Z",
     "iopub.status.idle": "2022-03-27T01:00:23.794441Z",
     "shell.execute_reply": "2022-03-27T01:00:23.793761Z",
     "shell.execute_reply.started": "2022-03-27T00:56:36.099529Z"
    },
    "papermill": {
     "duration": 0.079353,
     "end_time": "2022-03-27T01:00:23.794624",
     "exception": false,
     "start_time": "2022-03-27T01:00:23.715271",
     "status": "completed"
    },
    "tags": []
   },
   "outputs": [
    {
     "name": "stdout",
     "output_type": "stream",
     "text": [
      "/kaggle/input/data-storm-30/validation_data.csv\n",
      "/kaggle/input/data-storm-30/train_data.csv\n",
      "/kaggle/input/data-storm-30/test_data.csv\n"
     ]
    }
   ],
   "source": [
    "# This Python 3 environment comes with many helpful analytics libraries installed\n",
    "# It is defined by the kaggle/python Docker image: https://github.com/kaggle/docker-python\n",
    "# For example, here's several helpful packages to load\n",
    "\n",
    "import numpy as np # linear algebra\n",
    "import pandas as pd # data processing, CSV file I/O (e.g. pd.read_csv)\n",
    "\n",
    "# Input data files are available in the read-only \"../input/\" directory\n",
    "# For example, running this (by clicking run or pressing Shift+Enter) will list all files under the input directory\n",
    "\n",
    "import os\n",
    "for dirname, _, filenames in os.walk('/kaggle/input'):\n",
    "    for filename in filenames:\n",
    "        print(os.path.join(dirname, filename))\n",
    "        \n",
    "# You can write up to 20GB to the current directory (/kaggle/working/) that gets preserved as output when you create a version using \"Save & Run All\" \n",
    "# You can also write temporary files to /kaggle/temp/, but they won't be saved outside of the current session"
   ]
  },
  {
   "cell_type": "code",
   "execution_count": 2,
   "id": "47060693",
   "metadata": {
    "execution": {
     "iopub.execute_input": "2022-03-27T01:00:23.909911Z",
     "iopub.status.busy": "2022-03-27T01:00:23.909197Z",
     "iopub.status.idle": "2022-03-27T01:00:23.912587Z",
     "shell.execute_reply": "2022-03-27T01:00:23.913274Z",
     "shell.execute_reply.started": "2022-03-27T00:56:36.137752Z"
    },
    "papermill": {
     "duration": 0.063903,
     "end_time": "2022-03-27T01:00:23.913459",
     "exception": false,
     "start_time": "2022-03-27T01:00:23.849556",
     "status": "completed"
    },
    "tags": []
   },
   "outputs": [],
   "source": [
    "import warnings\n",
    "warnings.filterwarnings(\"ignore\")"
   ]
  },
  {
   "cell_type": "markdown",
   "id": "827ca5eb",
   "metadata": {
    "papermill": {
     "duration": 0.054467,
     "end_time": "2022-03-27T01:00:24.023860",
     "exception": false,
     "start_time": "2022-03-27T01:00:23.969393",
     "status": "completed"
    },
    "tags": []
   },
   "source": [
    "## Preprocessing of Data"
   ]
  },
  {
   "cell_type": "markdown",
   "id": "a600122e",
   "metadata": {
    "papermill": {
     "duration": 0.055807,
     "end_time": "2022-03-27T01:00:24.134770",
     "exception": false,
     "start_time": "2022-03-27T01:00:24.078963",
     "status": "completed"
    },
    "tags": []
   },
   "source": [
    "#### Extracting the data into dataframes"
   ]
  },
  {
   "cell_type": "code",
   "execution_count": 3,
   "id": "b72e5781",
   "metadata": {
    "execution": {
     "iopub.execute_input": "2022-03-27T01:00:24.247490Z",
     "iopub.status.busy": "2022-03-27T01:00:24.246756Z",
     "iopub.status.idle": "2022-03-27T01:00:24.291489Z",
     "shell.execute_reply": "2022-03-27T01:00:24.292060Z",
     "shell.execute_reply.started": "2022-03-27T00:56:36.144074Z"
    },
    "papermill": {
     "duration": 0.102801,
     "end_time": "2022-03-27T01:00:24.292274",
     "exception": false,
     "start_time": "2022-03-27T01:00:24.189473",
     "status": "completed"
    },
    "tags": []
   },
   "outputs": [],
   "source": [
    "# Obtaining the file paths for the input data for analysis\n",
    "train_filepath = \"/kaggle/input/data-storm-30/train_data.csv\"\n",
    "vali_filepath = \"/kaggle/input/data-storm-30/validation_data.csv\"\n",
    "test_filepath = \"/kaggle/input/data-storm-30/test_data.csv\"\n",
    "\n",
    "# Extracting the input files into dataframes\n",
    "train_file = pd.read_csv(train_filepath)\n",
    "vali_file = pd.read_csv(vali_filepath)\n",
    "test_file  = pd.read_csv(test_filepath)"
   ]
  },
  {
   "cell_type": "code",
   "execution_count": 4,
   "id": "731a02ca",
   "metadata": {
    "execution": {
     "iopub.execute_input": "2022-03-27T01:00:24.404844Z",
     "iopub.status.busy": "2022-03-27T01:00:24.404179Z",
     "iopub.status.idle": "2022-03-27T01:00:24.421554Z",
     "shell.execute_reply": "2022-03-27T01:00:24.422124Z",
     "shell.execute_reply.started": "2022-03-27T00:56:36.203807Z"
    },
    "papermill": {
     "duration": 0.075202,
     "end_time": "2022-03-27T01:00:24.422327",
     "exception": false,
     "start_time": "2022-03-27T01:00:24.347125",
     "status": "completed"
    },
    "tags": []
   },
   "outputs": [
    {
     "data": {
      "text/html": [
       "<div>\n",
       "<style scoped>\n",
       "    .dataframe tbody tr th:only-of-type {\n",
       "        vertical-align: middle;\n",
       "    }\n",
       "\n",
       "    .dataframe tbody tr th {\n",
       "        vertical-align: top;\n",
       "    }\n",
       "\n",
       "    .dataframe thead th {\n",
       "        text-align: right;\n",
       "    }\n",
       "</style>\n",
       "<table border=\"1\" class=\"dataframe\">\n",
       "  <thead>\n",
       "    <tr style=\"text-align: right;\">\n",
       "      <th></th>\n",
       "      <th>CategoryCode</th>\n",
       "      <th>ItemCode</th>\n",
       "      <th>DateID</th>\n",
       "      <th>DailySales</th>\n",
       "    </tr>\n",
       "  </thead>\n",
       "  <tbody>\n",
       "    <tr>\n",
       "      <th>0</th>\n",
       "      <td>category_2</td>\n",
       "      <td>117610</td>\n",
       "      <td>11/6/2021</td>\n",
       "      <td>7</td>\n",
       "    </tr>\n",
       "    <tr>\n",
       "      <th>1</th>\n",
       "      <td>category_4</td>\n",
       "      <td>836584</td>\n",
       "      <td>11/18/2021</td>\n",
       "      <td>16</td>\n",
       "    </tr>\n",
       "    <tr>\n",
       "      <th>2</th>\n",
       "      <td>category_1</td>\n",
       "      <td>370195</td>\n",
       "      <td>1/24/2022</td>\n",
       "      <td>6</td>\n",
       "    </tr>\n",
       "    <tr>\n",
       "      <th>3</th>\n",
       "      <td>category_2</td>\n",
       "      <td>172582</td>\n",
       "      <td>10/30/2021</td>\n",
       "      <td>5</td>\n",
       "    </tr>\n",
       "    <tr>\n",
       "      <th>4</th>\n",
       "      <td>category_2</td>\n",
       "      <td>1006009</td>\n",
       "      <td>10/30/2021</td>\n",
       "      <td>5</td>\n",
       "    </tr>\n",
       "  </tbody>\n",
       "</table>\n",
       "</div>"
      ],
      "text/plain": [
       "  CategoryCode  ItemCode      DateID  DailySales\n",
       "0   category_2    117610   11/6/2021           7\n",
       "1   category_4    836584  11/18/2021          16\n",
       "2   category_1    370195   1/24/2022           6\n",
       "3   category_2    172582  10/30/2021           5\n",
       "4   category_2   1006009  10/30/2021           5"
      ]
     },
     "execution_count": 4,
     "metadata": {},
     "output_type": "execute_result"
    }
   ],
   "source": [
    "# display top rows of training and test data\n",
    "train_file.head()"
   ]
  },
  {
   "cell_type": "code",
   "execution_count": 5,
   "id": "bbbb49e5",
   "metadata": {
    "execution": {
     "iopub.execute_input": "2022-03-27T01:00:24.543104Z",
     "iopub.status.busy": "2022-03-27T01:00:24.542423Z",
     "iopub.status.idle": "2022-03-27T01:00:24.546731Z",
     "shell.execute_reply": "2022-03-27T01:00:24.546053Z",
     "shell.execute_reply.started": "2022-03-27T00:56:36.225420Z"
    },
    "papermill": {
     "duration": 0.069416,
     "end_time": "2022-03-27T01:00:24.546882",
     "exception": false,
     "start_time": "2022-03-27T01:00:24.477466",
     "status": "completed"
    },
    "tags": []
   },
   "outputs": [
    {
     "data": {
      "text/html": [
       "<div>\n",
       "<style scoped>\n",
       "    .dataframe tbody tr th:only-of-type {\n",
       "        vertical-align: middle;\n",
       "    }\n",
       "\n",
       "    .dataframe tbody tr th {\n",
       "        vertical-align: top;\n",
       "    }\n",
       "\n",
       "    .dataframe thead th {\n",
       "        text-align: right;\n",
       "    }\n",
       "</style>\n",
       "<table border=\"1\" class=\"dataframe\">\n",
       "  <thead>\n",
       "    <tr style=\"text-align: right;\">\n",
       "      <th></th>\n",
       "      <th>CategoryCode</th>\n",
       "      <th>ItemCode</th>\n",
       "      <th>Week</th>\n",
       "      <th>WeeklySales</th>\n",
       "    </tr>\n",
       "  </thead>\n",
       "  <tbody>\n",
       "    <tr>\n",
       "      <th>0</th>\n",
       "      <td>category_2</td>\n",
       "      <td>1044502</td>\n",
       "      <td>w1</td>\n",
       "      <td>11</td>\n",
       "    </tr>\n",
       "    <tr>\n",
       "      <th>1</th>\n",
       "      <td>category_2</td>\n",
       "      <td>1105009</td>\n",
       "      <td>w1</td>\n",
       "      <td>11</td>\n",
       "    </tr>\n",
       "    <tr>\n",
       "      <th>2</th>\n",
       "      <td>category_2</td>\n",
       "      <td>913561</td>\n",
       "      <td>w4</td>\n",
       "      <td>5</td>\n",
       "    </tr>\n",
       "    <tr>\n",
       "      <th>3</th>\n",
       "      <td>category_1</td>\n",
       "      <td>1048975</td>\n",
       "      <td>w4</td>\n",
       "      <td>30</td>\n",
       "    </tr>\n",
       "    <tr>\n",
       "      <th>4</th>\n",
       "      <td>category_1</td>\n",
       "      <td>17287</td>\n",
       "      <td>w2</td>\n",
       "      <td>60</td>\n",
       "    </tr>\n",
       "  </tbody>\n",
       "</table>\n",
       "</div>"
      ],
      "text/plain": [
       "  CategoryCode  ItemCode Week  WeeklySales\n",
       "0   category_2   1044502   w1           11\n",
       "1   category_2   1105009   w1           11\n",
       "2   category_2    913561   w4            5\n",
       "3   category_1   1048975   w4           30\n",
       "4   category_1     17287   w2           60"
      ]
     },
     "execution_count": 5,
     "metadata": {},
     "output_type": "execute_result"
    }
   ],
   "source": [
    "vali_file.head()"
   ]
  },
  {
   "cell_type": "code",
   "execution_count": 6,
   "id": "10929379",
   "metadata": {
    "execution": {
     "iopub.execute_input": "2022-03-27T01:00:24.669254Z",
     "iopub.status.busy": "2022-03-27T01:00:24.668545Z",
     "iopub.status.idle": "2022-03-27T01:00:24.686677Z",
     "shell.execute_reply": "2022-03-27T01:00:24.685318Z",
     "shell.execute_reply.started": "2022-03-27T00:56:36.236727Z"
    },
    "papermill": {
     "duration": 0.084404,
     "end_time": "2022-03-27T01:00:24.686935",
     "exception": false,
     "start_time": "2022-03-27T01:00:24.602531",
     "status": "completed"
    },
    "tags": []
   },
   "outputs": [
    {
     "name": "stdout",
     "output_type": "stream",
     "text": [
      "0\n",
      "0\n",
      "0\n",
      "0\n",
      "0\n",
      "0\n",
      "0\n",
      "0\n",
      "0\n",
      "0\n",
      "0\n"
     ]
    }
   ],
   "source": [
    "# checking the number of rows with missing values in each of the dataframes\n",
    "\n",
    "print(pd.isnull(train_file.CategoryCode).sum())\n",
    "print(pd.isnull(train_file.ItemCode).sum())\n",
    "print(pd.isnull(train_file.DateID).sum())\n",
    "print(pd.isnull(train_file.DailySales).sum())\n",
    "\n",
    "print(pd.isnull(vali_file.CategoryCode).sum())\n",
    "print(pd.isnull(vali_file.ItemCode).sum())\n",
    "print(pd.isnull(vali_file.Week).sum())\n",
    "print(pd.isnull(vali_file.WeeklySales).sum())\n",
    "\n",
    "print(pd.isnull(test_file.CategoryCode).sum())\n",
    "print(pd.isnull(test_file.ItemCode).sum())\n",
    "print(pd.isnull(test_file.Week).sum())"
   ]
  },
  {
   "cell_type": "markdown",
   "id": "804336a0",
   "metadata": {
    "papermill": {
     "duration": 0.056039,
     "end_time": "2022-03-27T01:00:24.799832",
     "exception": false,
     "start_time": "2022-03-27T01:00:24.743793",
     "status": "completed"
    },
    "tags": []
   },
   "source": [
    "Therefore there are no missing data inputs we have to impute"
   ]
  },
  {
   "cell_type": "code",
   "execution_count": 7,
   "id": "fd068da7",
   "metadata": {
    "execution": {
     "iopub.execute_input": "2022-03-27T01:00:24.920794Z",
     "iopub.status.busy": "2022-03-27T01:00:24.920089Z",
     "iopub.status.idle": "2022-03-27T01:00:24.923600Z",
     "shell.execute_reply": "2022-03-27T01:00:24.922886Z",
     "shell.execute_reply.started": "2022-03-27T00:56:36.264717Z"
    },
    "papermill": {
     "duration": 0.066952,
     "end_time": "2022-03-27T01:00:24.923753",
     "exception": false,
     "start_time": "2022-03-27T01:00:24.856801",
     "status": "completed"
    },
    "tags": []
   },
   "outputs": [
    {
     "data": {
      "text/plain": [
       "CategoryCode    object\n",
       "ItemCode         int64\n",
       "DateID          object\n",
       "DailySales       int64\n",
       "dtype: object"
      ]
     },
     "execution_count": 7,
     "metadata": {},
     "output_type": "execute_result"
    }
   ],
   "source": [
    "# data types in train data\n",
    "train_file.dtypes"
   ]
  },
  {
   "cell_type": "code",
   "execution_count": 8,
   "id": "43ee1df8",
   "metadata": {
    "execution": {
     "iopub.execute_input": "2022-03-27T01:00:25.043419Z",
     "iopub.status.busy": "2022-03-27T01:00:25.042713Z",
     "iopub.status.idle": "2022-03-27T01:00:25.046997Z",
     "shell.execute_reply": "2022-03-27T01:00:25.046438Z",
     "shell.execute_reply.started": "2022-03-27T00:56:36.279652Z"
    },
    "papermill": {
     "duration": 0.066105,
     "end_time": "2022-03-27T01:00:25.047177",
     "exception": false,
     "start_time": "2022-03-27T01:00:24.981072",
     "status": "completed"
    },
    "tags": []
   },
   "outputs": [],
   "source": [
    "# creating copies to the data files we use\n",
    "train = train_file.copy()\n",
    "vali = vali_file.copy()\n",
    "test = test_file.copy()"
   ]
  },
  {
   "cell_type": "markdown",
   "id": "105757f0",
   "metadata": {
    "papermill": {
     "duration": 0.056554,
     "end_time": "2022-03-27T01:00:25.160289",
     "exception": false,
     "start_time": "2022-03-27T01:00:25.103735",
     "status": "completed"
    },
    "tags": []
   },
   "source": [
    "### Handling of the Date Variable"
   ]
  },
  {
   "cell_type": "markdown",
   "id": "75dad6fb",
   "metadata": {
    "papermill": {
     "duration": 0.056878,
     "end_time": "2022-03-27T01:00:25.273812",
     "exception": false,
     "start_time": "2022-03-27T01:00:25.216934",
     "status": "completed"
    },
    "tags": []
   },
   "source": [
    "Since our Test and Validation Data mainly require No of Sales value in quantity units per week, we shall convert our 'DateID' column into Week format.\n",
    "\n",
    "We could use Month as a feature but it will be directly related to the Week number of the year. Hence using only the Week number should be sufficient.\n",
    "\n",
    "Weeks from 39 to 52 represent data collected during the year 2021 and Weeks from 1 to 10 represent the data collected in the year 2022.\n",
    "\n",
    "To allow continuity of the date data from 2021 to 2022, the weeks in the year 2022 (given as 1 to 10) will be adjusted to by adding 52 to each of them."
   ]
  },
  {
   "cell_type": "code",
   "execution_count": 9,
   "id": "977b0766",
   "metadata": {
    "execution": {
     "iopub.execute_input": "2022-03-27T01:00:25.404752Z",
     "iopub.status.busy": "2022-03-27T01:00:25.399538Z",
     "iopub.status.idle": "2022-03-27T01:00:25.430518Z",
     "shell.execute_reply": "2022-03-27T01:00:25.429868Z",
     "shell.execute_reply.started": "2022-03-27T00:56:36.287966Z"
    },
    "papermill": {
     "duration": 0.099165,
     "end_time": "2022-03-27T01:00:25.430676",
     "exception": false,
     "start_time": "2022-03-27T01:00:25.331511",
     "status": "completed"
    },
    "tags": []
   },
   "outputs": [],
   "source": [
    "# converting time column into datetime object in Training Data\n",
    "train['DateID'] = pd.to_datetime(train.DateID)\n",
    "\n",
    "# creating columns for month and week\n",
    "train['Week'] = train.DateID.dt.week"
   ]
  },
  {
   "cell_type": "code",
   "execution_count": 10,
   "id": "bb96756a",
   "metadata": {
    "execution": {
     "iopub.execute_input": "2022-03-27T01:00:25.552924Z",
     "iopub.status.busy": "2022-03-27T01:00:25.552233Z",
     "iopub.status.idle": "2022-03-27T01:00:28.289627Z",
     "shell.execute_reply": "2022-03-27T01:00:28.290241Z",
     "shell.execute_reply.started": "2022-03-27T00:56:36.334303Z"
    },
    "papermill": {
     "duration": 2.80191,
     "end_time": "2022-03-27T01:00:28.290431",
     "exception": false,
     "start_time": "2022-03-27T01:00:25.488521",
     "status": "completed"
    },
    "tags": []
   },
   "outputs": [],
   "source": [
    "# replacing the weeks given for 2022 (which are in the range of 1 to 10) into the raange of 53 to 62\n",
    "for idx in train.index:\n",
    "    if train.loc[idx,'Week'] <= 10:\n",
    "        train.loc[idx,'Week'] = train.loc[idx,'Week'] + 52"
   ]
  },
  {
   "cell_type": "code",
   "execution_count": 11,
   "id": "ee91f7df",
   "metadata": {
    "execution": {
     "iopub.execute_input": "2022-03-27T01:00:28.409549Z",
     "iopub.status.busy": "2022-03-27T01:00:28.408847Z",
     "iopub.status.idle": "2022-03-27T01:00:28.415777Z",
     "shell.execute_reply": "2022-03-27T01:00:28.416403Z",
     "shell.execute_reply.started": "2022-03-27T00:56:38.605001Z"
    },
    "papermill": {
     "duration": 0.069081,
     "end_time": "2022-03-27T01:00:28.416588",
     "exception": false,
     "start_time": "2022-03-27T01:00:28.347507",
     "status": "completed"
    },
    "tags": []
   },
   "outputs": [
    {
     "data": {
      "text/plain": [
       "52    1087\n",
       "51    1072\n",
       "48    1062\n",
       "54    1055\n",
       "49    1054\n",
       "50    1053\n",
       "47    1050\n",
       "53    1039\n",
       "45    1027\n",
       "57    1020\n",
       "46    1016\n",
       "55    1015\n",
       "56    1014\n",
       "43    1011\n",
       "44    1009\n",
       "40     992\n",
       "58     978\n",
       "41     974\n",
       "42     938\n",
       "39     455\n",
       "Name: Week, dtype: int64"
      ]
     },
     "execution_count": 11,
     "metadata": {},
     "output_type": "execute_result"
    }
   ],
   "source": [
    "train.Week.value_counts()"
   ]
  },
  {
   "cell_type": "markdown",
   "id": "fd780f0e",
   "metadata": {
    "papermill": {
     "duration": 0.057037,
     "end_time": "2022-03-27T01:00:28.530955",
     "exception": false,
     "start_time": "2022-03-27T01:00:28.473918",
     "status": "completed"
    },
    "tags": []
   },
   "source": [
    "We can see that incomplete week 39 (1st October - 3rd october 2021) has 455 datapoints while all the other weeks have values ranging from 900-1100.\n",
    "\n",
    "Therefore we can choose to omit the data points for week 39 from our training, or we can adjust proportionally the datapoints for each itemcode up to 7/3 times for the whole week instead of 3 days."
   ]
  },
  {
   "cell_type": "markdown",
   "id": "14f776df",
   "metadata": {
    "papermill": {
     "duration": 0.056859,
     "end_time": "2022-03-27T01:00:28.645411",
     "exception": false,
     "start_time": "2022-03-27T01:00:28.588552",
     "status": "completed"
    },
    "tags": []
   },
   "source": [
    "##### for this method we will remove the the data points from week 39"
   ]
  },
  {
   "cell_type": "code",
   "execution_count": 12,
   "id": "de0c8c23",
   "metadata": {
    "execution": {
     "iopub.execute_input": "2022-03-27T01:00:28.763082Z",
     "iopub.status.busy": "2022-03-27T01:00:28.762384Z",
     "iopub.status.idle": "2022-03-27T01:00:28.783665Z",
     "shell.execute_reply": "2022-03-27T01:00:28.783011Z",
     "shell.execute_reply.started": "2022-03-27T00:56:38.616581Z"
    },
    "papermill": {
     "duration": 0.080793,
     "end_time": "2022-03-27T01:00:28.783840",
     "exception": false,
     "start_time": "2022-03-27T01:00:28.703047",
     "status": "completed"
    },
    "tags": []
   },
   "outputs": [
    {
     "data": {
      "text/html": [
       "<div>\n",
       "<style scoped>\n",
       "    .dataframe tbody tr th:only-of-type {\n",
       "        vertical-align: middle;\n",
       "    }\n",
       "\n",
       "    .dataframe tbody tr th {\n",
       "        vertical-align: top;\n",
       "    }\n",
       "\n",
       "    .dataframe thead th {\n",
       "        text-align: right;\n",
       "    }\n",
       "</style>\n",
       "<table border=\"1\" class=\"dataframe\">\n",
       "  <thead>\n",
       "    <tr style=\"text-align: right;\">\n",
       "      <th></th>\n",
       "      <th>CategoryCode</th>\n",
       "      <th>ItemCode</th>\n",
       "      <th>DateID</th>\n",
       "      <th>DailySales</th>\n",
       "      <th>Week</th>\n",
       "    </tr>\n",
       "  </thead>\n",
       "  <tbody>\n",
       "    <tr>\n",
       "      <th>0</th>\n",
       "      <td>category_2</td>\n",
       "      <td>117610</td>\n",
       "      <td>2021-11-06</td>\n",
       "      <td>7</td>\n",
       "      <td>44</td>\n",
       "    </tr>\n",
       "    <tr>\n",
       "      <th>1</th>\n",
       "      <td>category_4</td>\n",
       "      <td>836584</td>\n",
       "      <td>2021-11-18</td>\n",
       "      <td>16</td>\n",
       "      <td>46</td>\n",
       "    </tr>\n",
       "    <tr>\n",
       "      <th>2</th>\n",
       "      <td>category_1</td>\n",
       "      <td>370195</td>\n",
       "      <td>2022-01-24</td>\n",
       "      <td>6</td>\n",
       "      <td>56</td>\n",
       "    </tr>\n",
       "    <tr>\n",
       "      <th>3</th>\n",
       "      <td>category_2</td>\n",
       "      <td>172582</td>\n",
       "      <td>2021-10-30</td>\n",
       "      <td>5</td>\n",
       "      <td>43</td>\n",
       "    </tr>\n",
       "    <tr>\n",
       "      <th>4</th>\n",
       "      <td>category_2</td>\n",
       "      <td>1006009</td>\n",
       "      <td>2021-10-30</td>\n",
       "      <td>5</td>\n",
       "      <td>43</td>\n",
       "    </tr>\n",
       "    <tr>\n",
       "      <th>...</th>\n",
       "      <td>...</td>\n",
       "      <td>...</td>\n",
       "      <td>...</td>\n",
       "      <td>...</td>\n",
       "      <td>...</td>\n",
       "    </tr>\n",
       "    <tr>\n",
       "      <th>19912</th>\n",
       "      <td>category_2</td>\n",
       "      <td>75886</td>\n",
       "      <td>2021-10-04</td>\n",
       "      <td>1</td>\n",
       "      <td>40</td>\n",
       "    </tr>\n",
       "    <tr>\n",
       "      <th>19915</th>\n",
       "      <td>category_1</td>\n",
       "      <td>36898</td>\n",
       "      <td>2021-10-12</td>\n",
       "      <td>1</td>\n",
       "      <td>41</td>\n",
       "    </tr>\n",
       "    <tr>\n",
       "      <th>19916</th>\n",
       "      <td>category_2</td>\n",
       "      <td>225259</td>\n",
       "      <td>2021-10-04</td>\n",
       "      <td>4</td>\n",
       "      <td>40</td>\n",
       "    </tr>\n",
       "    <tr>\n",
       "      <th>19917</th>\n",
       "      <td>category_2</td>\n",
       "      <td>111436</td>\n",
       "      <td>2021-10-12</td>\n",
       "      <td>1</td>\n",
       "      <td>41</td>\n",
       "    </tr>\n",
       "    <tr>\n",
       "      <th>19920</th>\n",
       "      <td>category_1</td>\n",
       "      <td>371104</td>\n",
       "      <td>2021-10-04</td>\n",
       "      <td>4</td>\n",
       "      <td>40</td>\n",
       "    </tr>\n",
       "  </tbody>\n",
       "</table>\n",
       "<p>19466 rows × 5 columns</p>\n",
       "</div>"
      ],
      "text/plain": [
       "      CategoryCode  ItemCode     DateID  DailySales  Week\n",
       "0       category_2    117610 2021-11-06           7    44\n",
       "1       category_4    836584 2021-11-18          16    46\n",
       "2       category_1    370195 2022-01-24           6    56\n",
       "3       category_2    172582 2021-10-30           5    43\n",
       "4       category_2   1006009 2021-10-30           5    43\n",
       "...            ...       ...        ...         ...   ...\n",
       "19912   category_2     75886 2021-10-04           1    40\n",
       "19915   category_1     36898 2021-10-12           1    41\n",
       "19916   category_2    225259 2021-10-04           4    40\n",
       "19917   category_2    111436 2021-10-12           1    41\n",
       "19920   category_1    371104 2021-10-04           4    40\n",
       "\n",
       "[19466 rows x 5 columns]"
      ]
     },
     "execution_count": 12,
     "metadata": {},
     "output_type": "execute_result"
    }
   ],
   "source": [
    "train = train.loc[train.Week > 39]\n",
    "train"
   ]
  },
  {
   "cell_type": "markdown",
   "id": "f936748b",
   "metadata": {
    "papermill": {
     "duration": 0.05709,
     "end_time": "2022-03-27T01:00:28.899197",
     "exception": false,
     "start_time": "2022-03-27T01:00:28.842107",
     "status": "completed"
    },
    "tags": []
   },
   "source": [
    "### Handling the date (Week) variable in the validation data "
   ]
  },
  {
   "cell_type": "code",
   "execution_count": 13,
   "id": "7df490e4",
   "metadata": {
    "execution": {
     "iopub.execute_input": "2022-03-27T01:00:29.016274Z",
     "iopub.status.busy": "2022-03-27T01:00:29.015606Z",
     "iopub.status.idle": "2022-03-27T01:00:29.023175Z",
     "shell.execute_reply": "2022-03-27T01:00:29.023792Z",
     "shell.execute_reply.started": "2022-03-27T00:56:38.650553Z"
    },
    "papermill": {
     "duration": 0.067741,
     "end_time": "2022-03-27T01:00:29.024004",
     "exception": false,
     "start_time": "2022-03-27T01:00:28.956263",
     "status": "completed"
    },
    "tags": []
   },
   "outputs": [],
   "source": [
    "# adding the date features into test data\n",
    "vali['Week'] = vali.Week.replace(\"w1\",59)    #  7th week of 2022\n",
    "vali['Week'] = vali.Week.replace(\"w2\",60)    #  8th week of 2022\n",
    "vali['Week'] = vali.Week.replace(\"w3\",61)    #  9th week of 2022\n",
    "vali['Week'] = vali.Week.replace(\"w4\",62)    # 10th week of 2022"
   ]
  },
  {
   "cell_type": "code",
   "execution_count": 14,
   "id": "bf440f65",
   "metadata": {
    "execution": {
     "iopub.execute_input": "2022-03-27T01:00:29.142029Z",
     "iopub.status.busy": "2022-03-27T01:00:29.141383Z",
     "iopub.status.idle": "2022-03-27T01:00:29.154915Z",
     "shell.execute_reply": "2022-03-27T01:00:29.155518Z",
     "shell.execute_reply.started": "2022-03-27T00:56:38.663597Z"
    },
    "papermill": {
     "duration": 0.074346,
     "end_time": "2022-03-27T01:00:29.155699",
     "exception": false,
     "start_time": "2022-03-27T01:00:29.081353",
     "status": "completed"
    },
    "tags": []
   },
   "outputs": [
    {
     "data": {
      "text/html": [
       "<div>\n",
       "<style scoped>\n",
       "    .dataframe tbody tr th:only-of-type {\n",
       "        vertical-align: middle;\n",
       "    }\n",
       "\n",
       "    .dataframe tbody tr th {\n",
       "        vertical-align: top;\n",
       "    }\n",
       "\n",
       "    .dataframe thead th {\n",
       "        text-align: right;\n",
       "    }\n",
       "</style>\n",
       "<table border=\"1\" class=\"dataframe\">\n",
       "  <thead>\n",
       "    <tr style=\"text-align: right;\">\n",
       "      <th></th>\n",
       "      <th>CategoryCode</th>\n",
       "      <th>ItemCode</th>\n",
       "      <th>Week</th>\n",
       "      <th>WeeklySales</th>\n",
       "    </tr>\n",
       "  </thead>\n",
       "  <tbody>\n",
       "    <tr>\n",
       "      <th>0</th>\n",
       "      <td>category_2</td>\n",
       "      <td>1044502</td>\n",
       "      <td>59</td>\n",
       "      <td>11</td>\n",
       "    </tr>\n",
       "    <tr>\n",
       "      <th>1</th>\n",
       "      <td>category_2</td>\n",
       "      <td>1105009</td>\n",
       "      <td>59</td>\n",
       "      <td>11</td>\n",
       "    </tr>\n",
       "    <tr>\n",
       "      <th>2</th>\n",
       "      <td>category_2</td>\n",
       "      <td>913561</td>\n",
       "      <td>62</td>\n",
       "      <td>5</td>\n",
       "    </tr>\n",
       "    <tr>\n",
       "      <th>3</th>\n",
       "      <td>category_1</td>\n",
       "      <td>1048975</td>\n",
       "      <td>62</td>\n",
       "      <td>30</td>\n",
       "    </tr>\n",
       "    <tr>\n",
       "      <th>4</th>\n",
       "      <td>category_1</td>\n",
       "      <td>17287</td>\n",
       "      <td>60</td>\n",
       "      <td>60</td>\n",
       "    </tr>\n",
       "    <tr>\n",
       "      <th>...</th>\n",
       "      <td>...</td>\n",
       "      <td>...</td>\n",
       "      <td>...</td>\n",
       "      <td>...</td>\n",
       "    </tr>\n",
       "    <tr>\n",
       "      <th>365</th>\n",
       "      <td>category_2</td>\n",
       "      <td>124954</td>\n",
       "      <td>60</td>\n",
       "      <td>43</td>\n",
       "    </tr>\n",
       "    <tr>\n",
       "      <th>366</th>\n",
       "      <td>category_2</td>\n",
       "      <td>40759</td>\n",
       "      <td>59</td>\n",
       "      <td>48</td>\n",
       "    </tr>\n",
       "    <tr>\n",
       "      <th>367</th>\n",
       "      <td>category_1</td>\n",
       "      <td>1090303</td>\n",
       "      <td>59</td>\n",
       "      <td>19</td>\n",
       "    </tr>\n",
       "    <tr>\n",
       "      <th>368</th>\n",
       "      <td>category_2</td>\n",
       "      <td>1090276</td>\n",
       "      <td>61</td>\n",
       "      <td>6</td>\n",
       "    </tr>\n",
       "    <tr>\n",
       "      <th>369</th>\n",
       "      <td>category_1</td>\n",
       "      <td>3418</td>\n",
       "      <td>62</td>\n",
       "      <td>69</td>\n",
       "    </tr>\n",
       "  </tbody>\n",
       "</table>\n",
       "<p>370 rows × 4 columns</p>\n",
       "</div>"
      ],
      "text/plain": [
       "    CategoryCode  ItemCode  Week  WeeklySales\n",
       "0     category_2   1044502    59           11\n",
       "1     category_2   1105009    59           11\n",
       "2     category_2    913561    62            5\n",
       "3     category_1   1048975    62           30\n",
       "4     category_1     17287    60           60\n",
       "..           ...       ...   ...          ...\n",
       "365   category_2    124954    60           43\n",
       "366   category_2     40759    59           48\n",
       "367   category_1   1090303    59           19\n",
       "368   category_2   1090276    61            6\n",
       "369   category_1      3418    62           69\n",
       "\n",
       "[370 rows x 4 columns]"
      ]
     },
     "execution_count": 14,
     "metadata": {},
     "output_type": "execute_result"
    }
   ],
   "source": [
    "vali"
   ]
  },
  {
   "cell_type": "markdown",
   "id": "98e16024",
   "metadata": {
    "papermill": {
     "duration": 0.057377,
     "end_time": "2022-03-27T01:00:29.270898",
     "exception": false,
     "start_time": "2022-03-27T01:00:29.213521",
     "status": "completed"
    },
    "tags": []
   },
   "source": [
    "#### Handling the date (Week) variable in the test data"
   ]
  },
  {
   "cell_type": "code",
   "execution_count": 15,
   "id": "23e741d0",
   "metadata": {
    "execution": {
     "iopub.execute_input": "2022-03-27T01:00:29.390259Z",
     "iopub.status.busy": "2022-03-27T01:00:29.389552Z",
     "iopub.status.idle": "2022-03-27T01:00:29.398321Z",
     "shell.execute_reply": "2022-03-27T01:00:29.397613Z",
     "shell.execute_reply.started": "2022-03-27T00:56:38.686116Z"
    },
    "papermill": {
     "duration": 0.069787,
     "end_time": "2022-03-27T01:00:29.398471",
     "exception": false,
     "start_time": "2022-03-27T01:00:29.328684",
     "status": "completed"
    },
    "tags": []
   },
   "outputs": [],
   "source": [
    "# adding the date features into test data\n",
    "test['Week'] = test.Week.replace(\"w1\",59)    #  7th week of 2022\n",
    "test['Week'] = test.Week.replace(\"w2\",60)    #  8th week of 2022\n",
    "test['Week'] = test.Week.replace(\"w3\",61)    #  9th week of 2022\n",
    "test['Week'] = test.Week.replace(\"w4\",62)    # 10th week of 2022"
   ]
  },
  {
   "cell_type": "code",
   "execution_count": 16,
   "id": "8be4b199",
   "metadata": {
    "execution": {
     "iopub.execute_input": "2022-03-27T01:00:29.520036Z",
     "iopub.status.busy": "2022-03-27T01:00:29.519372Z",
     "iopub.status.idle": "2022-03-27T01:00:29.530429Z",
     "shell.execute_reply": "2022-03-27T01:00:29.530969Z",
     "shell.execute_reply.started": "2022-03-27T00:56:38.700134Z"
    },
    "papermill": {
     "duration": 0.074865,
     "end_time": "2022-03-27T01:00:29.531167",
     "exception": false,
     "start_time": "2022-03-27T01:00:29.456302",
     "status": "completed"
    },
    "tags": []
   },
   "outputs": [
    {
     "data": {
      "text/html": [
       "<div>\n",
       "<style scoped>\n",
       "    .dataframe tbody tr th:only-of-type {\n",
       "        vertical-align: middle;\n",
       "    }\n",
       "\n",
       "    .dataframe tbody tr th {\n",
       "        vertical-align: top;\n",
       "    }\n",
       "\n",
       "    .dataframe thead th {\n",
       "        text-align: right;\n",
       "    }\n",
       "</style>\n",
       "<table border=\"1\" class=\"dataframe\">\n",
       "  <thead>\n",
       "    <tr style=\"text-align: right;\">\n",
       "      <th></th>\n",
       "      <th>CategoryCode</th>\n",
       "      <th>ItemCode</th>\n",
       "      <th>Week</th>\n",
       "      <th>PredictedSales</th>\n",
       "    </tr>\n",
       "  </thead>\n",
       "  <tbody>\n",
       "    <tr>\n",
       "      <th>0</th>\n",
       "      <td>category_1</td>\n",
       "      <td>43738</td>\n",
       "      <td>62</td>\n",
       "      <td>NaN</td>\n",
       "    </tr>\n",
       "    <tr>\n",
       "      <th>1</th>\n",
       "      <td>category_2</td>\n",
       "      <td>1006090</td>\n",
       "      <td>59</td>\n",
       "      <td>NaN</td>\n",
       "    </tr>\n",
       "    <tr>\n",
       "      <th>2</th>\n",
       "      <td>category_2</td>\n",
       "      <td>1076929</td>\n",
       "      <td>62</td>\n",
       "      <td>NaN</td>\n",
       "    </tr>\n",
       "    <tr>\n",
       "      <th>3</th>\n",
       "      <td>category_1</td>\n",
       "      <td>1081321</td>\n",
       "      <td>61</td>\n",
       "      <td>NaN</td>\n",
       "    </tr>\n",
       "    <tr>\n",
       "      <th>4</th>\n",
       "      <td>category_2</td>\n",
       "      <td>216151</td>\n",
       "      <td>62</td>\n",
       "      <td>NaN</td>\n",
       "    </tr>\n",
       "    <tr>\n",
       "      <th>...</th>\n",
       "      <td>...</td>\n",
       "      <td>...</td>\n",
       "      <td>...</td>\n",
       "      <td>...</td>\n",
       "    </tr>\n",
       "    <tr>\n",
       "      <th>372</th>\n",
       "      <td>category_2</td>\n",
       "      <td>1101571</td>\n",
       "      <td>59</td>\n",
       "      <td>NaN</td>\n",
       "    </tr>\n",
       "    <tr>\n",
       "      <th>373</th>\n",
       "      <td>category_2</td>\n",
       "      <td>1090258</td>\n",
       "      <td>62</td>\n",
       "      <td>NaN</td>\n",
       "    </tr>\n",
       "    <tr>\n",
       "      <th>374</th>\n",
       "      <td>category_2</td>\n",
       "      <td>906595</td>\n",
       "      <td>59</td>\n",
       "      <td>NaN</td>\n",
       "    </tr>\n",
       "    <tr>\n",
       "      <th>375</th>\n",
       "      <td>category_2</td>\n",
       "      <td>32245</td>\n",
       "      <td>59</td>\n",
       "      <td>NaN</td>\n",
       "    </tr>\n",
       "    <tr>\n",
       "      <th>376</th>\n",
       "      <td>category_2</td>\n",
       "      <td>1006090</td>\n",
       "      <td>60</td>\n",
       "      <td>NaN</td>\n",
       "    </tr>\n",
       "  </tbody>\n",
       "</table>\n",
       "<p>377 rows × 4 columns</p>\n",
       "</div>"
      ],
      "text/plain": [
       "    CategoryCode  ItemCode  Week  PredictedSales\n",
       "0     category_1     43738    62             NaN\n",
       "1     category_2   1006090    59             NaN\n",
       "2     category_2   1076929    62             NaN\n",
       "3     category_1   1081321    61             NaN\n",
       "4     category_2    216151    62             NaN\n",
       "..           ...       ...   ...             ...\n",
       "372   category_2   1101571    59             NaN\n",
       "373   category_2   1090258    62             NaN\n",
       "374   category_2    906595    59             NaN\n",
       "375   category_2     32245    59             NaN\n",
       "376   category_2   1006090    60             NaN\n",
       "\n",
       "[377 rows x 4 columns]"
      ]
     },
     "execution_count": 16,
     "metadata": {},
     "output_type": "execute_result"
    }
   ],
   "source": [
    "test"
   ]
  },
  {
   "cell_type": "markdown",
   "id": "a5013d0d",
   "metadata": {
    "papermill": {
     "duration": 0.058396,
     "end_time": "2022-03-27T01:00:29.648023",
     "exception": false,
     "start_time": "2022-03-27T01:00:29.589627",
     "status": "completed"
    },
    "tags": []
   },
   "source": [
    "#### Creating a Dataframe for where Sales data are recorded weekly"
   ]
  },
  {
   "cell_type": "markdown",
   "id": "9557df8d",
   "metadata": {
    "papermill": {
     "duration": 0.057949,
     "end_time": "2022-03-27T01:00:29.764132",
     "exception": false,
     "start_time": "2022-03-27T01:00:29.706183",
     "status": "completed"
    },
    "tags": []
   },
   "source": [
    "Since our test data and validation data both use the week as the time frame, let us restructure our dataframe so that instead of units sold on a daily basis (DailySales) , we will use the units sold on a weekly basis (WeeklySales)"
   ]
  },
  {
   "cell_type": "code",
   "execution_count": 17,
   "id": "a6e00094",
   "metadata": {
    "execution": {
     "iopub.execute_input": "2022-03-27T01:00:29.886117Z",
     "iopub.status.busy": "2022-03-27T01:00:29.883043Z",
     "iopub.status.idle": "2022-03-27T01:00:29.908742Z",
     "shell.execute_reply": "2022-03-27T01:00:29.909415Z",
     "shell.execute_reply.started": "2022-03-27T00:56:38.719124Z"
    },
    "papermill": {
     "duration": 0.087331,
     "end_time": "2022-03-27T01:00:29.909595",
     "exception": false,
     "start_time": "2022-03-27T01:00:29.822264",
     "status": "completed"
    },
    "tags": []
   },
   "outputs": [
    {
     "data": {
      "text/html": [
       "<div>\n",
       "<style scoped>\n",
       "    .dataframe tbody tr th:only-of-type {\n",
       "        vertical-align: middle;\n",
       "    }\n",
       "\n",
       "    .dataframe tbody tr th {\n",
       "        vertical-align: top;\n",
       "    }\n",
       "\n",
       "    .dataframe thead th {\n",
       "        text-align: right;\n",
       "    }\n",
       "</style>\n",
       "<table border=\"1\" class=\"dataframe\">\n",
       "  <thead>\n",
       "    <tr style=\"text-align: right;\">\n",
       "      <th></th>\n",
       "      <th></th>\n",
       "      <th></th>\n",
       "      <th>sum</th>\n",
       "    </tr>\n",
       "    <tr>\n",
       "      <th>Week</th>\n",
       "      <th>ItemCode</th>\n",
       "      <th>CategoryCode</th>\n",
       "      <th></th>\n",
       "    </tr>\n",
       "  </thead>\n",
       "  <tbody>\n",
       "    <tr>\n",
       "      <th rowspan=\"5\" valign=\"top\">40</th>\n",
       "      <th>3418</th>\n",
       "      <th>category_1</th>\n",
       "      <td>42</td>\n",
       "    </tr>\n",
       "    <tr>\n",
       "      <th>1032550</th>\n",
       "      <th>category_1</th>\n",
       "      <td>16</td>\n",
       "    </tr>\n",
       "    <tr>\n",
       "      <th>1032559</th>\n",
       "      <th>category_1</th>\n",
       "      <td>17</td>\n",
       "    </tr>\n",
       "    <tr>\n",
       "      <th>1032568</th>\n",
       "      <th>category_1</th>\n",
       "      <td>10</td>\n",
       "    </tr>\n",
       "    <tr>\n",
       "      <th>1032586</th>\n",
       "      <th>category_1</th>\n",
       "      <td>21</td>\n",
       "    </tr>\n",
       "    <tr>\n",
       "      <th>...</th>\n",
       "      <th>...</th>\n",
       "      <th>...</th>\n",
       "      <td>...</td>\n",
       "    </tr>\n",
       "    <tr>\n",
       "      <th rowspan=\"5\" valign=\"top\">58</th>\n",
       "      <th>211309</th>\n",
       "      <th>category_2</th>\n",
       "      <td>14</td>\n",
       "    </tr>\n",
       "    <tr>\n",
       "      <th>213802</th>\n",
       "      <th>category_2</th>\n",
       "      <td>7</td>\n",
       "    </tr>\n",
       "    <tr>\n",
       "      <th>216151</th>\n",
       "      <th>category_2</th>\n",
       "      <td>13</td>\n",
       "    </tr>\n",
       "    <tr>\n",
       "      <th>145978</th>\n",
       "      <th>category_1</th>\n",
       "      <td>32</td>\n",
       "    </tr>\n",
       "    <tr>\n",
       "      <th>1105027</th>\n",
       "      <th>category_2</th>\n",
       "      <td>14</td>\n",
       "    </tr>\n",
       "  </tbody>\n",
       "</table>\n",
       "<p>3593 rows × 1 columns</p>\n",
       "</div>"
      ],
      "text/plain": [
       "                            sum\n",
       "Week ItemCode CategoryCode     \n",
       "40   3418     category_1     42\n",
       "     1032550  category_1     16\n",
       "     1032559  category_1     17\n",
       "     1032568  category_1     10\n",
       "     1032586  category_1     21\n",
       "...                         ...\n",
       "58   211309   category_2     14\n",
       "     213802   category_2      7\n",
       "     216151   category_2     13\n",
       "     145978   category_1     32\n",
       "     1105027  category_2     14\n",
       "\n",
       "[3593 rows x 1 columns]"
      ]
     },
     "execution_count": 17,
     "metadata": {},
     "output_type": "execute_result"
    }
   ],
   "source": [
    "## Grouping the data rows based on both ItemCode and Week and the Category Code\n",
    "\n",
    "train_grouped = train.groupby(['Week', 'ItemCode', 'CategoryCode']).DailySales.agg([sum])\n",
    "train_grouped.sort_values(by='Week')"
   ]
  },
  {
   "cell_type": "code",
   "execution_count": 18,
   "id": "c29e41c5",
   "metadata": {
    "execution": {
     "iopub.execute_input": "2022-03-27T01:00:30.030206Z",
     "iopub.status.busy": "2022-03-27T01:00:30.029541Z",
     "iopub.status.idle": "2022-03-27T01:00:30.037617Z",
     "shell.execute_reply": "2022-03-27T01:00:30.038115Z",
     "shell.execute_reply.started": "2022-03-27T00:56:38.756709Z"
    },
    "papermill": {
     "duration": 0.069891,
     "end_time": "2022-03-27T01:00:30.038309",
     "exception": false,
     "start_time": "2022-03-27T01:00:29.968418",
     "status": "completed"
    },
    "tags": []
   },
   "outputs": [],
   "source": [
    "# Resetting the index\n",
    "train = train_grouped.reset_index()\n",
    "\n",
    "# renaming the sum column into Weekly Sales\n",
    "\n",
    "train['WeeklySales'] = train['sum']\n",
    "train.drop('sum',axis=1,inplace=True)"
   ]
  },
  {
   "cell_type": "code",
   "execution_count": 19,
   "id": "e9f26fad",
   "metadata": {
    "execution": {
     "iopub.execute_input": "2022-03-27T01:00:30.159924Z",
     "iopub.status.busy": "2022-03-27T01:00:30.159074Z",
     "iopub.status.idle": "2022-03-27T01:00:30.171570Z",
     "shell.execute_reply": "2022-03-27T01:00:30.172092Z",
     "shell.execute_reply.started": "2022-03-27T00:56:38.767184Z"
    },
    "papermill": {
     "duration": 0.074824,
     "end_time": "2022-03-27T01:00:30.172305",
     "exception": false,
     "start_time": "2022-03-27T01:00:30.097481",
     "status": "completed"
    },
    "tags": []
   },
   "outputs": [
    {
     "data": {
      "text/html": [
       "<div>\n",
       "<style scoped>\n",
       "    .dataframe tbody tr th:only-of-type {\n",
       "        vertical-align: middle;\n",
       "    }\n",
       "\n",
       "    .dataframe tbody tr th {\n",
       "        vertical-align: top;\n",
       "    }\n",
       "\n",
       "    .dataframe thead th {\n",
       "        text-align: right;\n",
       "    }\n",
       "</style>\n",
       "<table border=\"1\" class=\"dataframe\">\n",
       "  <thead>\n",
       "    <tr style=\"text-align: right;\">\n",
       "      <th></th>\n",
       "      <th>Week</th>\n",
       "      <th>ItemCode</th>\n",
       "      <th>CategoryCode</th>\n",
       "      <th>WeeklySales</th>\n",
       "    </tr>\n",
       "  </thead>\n",
       "  <tbody>\n",
       "    <tr>\n",
       "      <th>0</th>\n",
       "      <td>40</td>\n",
       "      <td>3418</td>\n",
       "      <td>category_1</td>\n",
       "      <td>42</td>\n",
       "    </tr>\n",
       "    <tr>\n",
       "      <th>1</th>\n",
       "      <td>40</td>\n",
       "      <td>3427</td>\n",
       "      <td>category_1</td>\n",
       "      <td>40</td>\n",
       "    </tr>\n",
       "    <tr>\n",
       "      <th>2</th>\n",
       "      <td>40</td>\n",
       "      <td>7666</td>\n",
       "      <td>category_3</td>\n",
       "      <td>119</td>\n",
       "    </tr>\n",
       "    <tr>\n",
       "      <th>3</th>\n",
       "      <td>40</td>\n",
       "      <td>9925</td>\n",
       "      <td>category_2</td>\n",
       "      <td>9</td>\n",
       "    </tr>\n",
       "    <tr>\n",
       "      <th>4</th>\n",
       "      <td>40</td>\n",
       "      <td>16936</td>\n",
       "      <td>category_3</td>\n",
       "      <td>25</td>\n",
       "    </tr>\n",
       "    <tr>\n",
       "      <th>...</th>\n",
       "      <td>...</td>\n",
       "      <td>...</td>\n",
       "      <td>...</td>\n",
       "      <td>...</td>\n",
       "    </tr>\n",
       "    <tr>\n",
       "      <th>3588</th>\n",
       "      <td>58</td>\n",
       "      <td>1101769</td>\n",
       "      <td>category_2</td>\n",
       "      <td>33</td>\n",
       "    </tr>\n",
       "    <tr>\n",
       "      <th>3589</th>\n",
       "      <td>58</td>\n",
       "      <td>1103056</td>\n",
       "      <td>category_2</td>\n",
       "      <td>10</td>\n",
       "    </tr>\n",
       "    <tr>\n",
       "      <th>3590</th>\n",
       "      <td>58</td>\n",
       "      <td>1105009</td>\n",
       "      <td>category_2</td>\n",
       "      <td>11</td>\n",
       "    </tr>\n",
       "    <tr>\n",
       "      <th>3591</th>\n",
       "      <td>58</td>\n",
       "      <td>1105018</td>\n",
       "      <td>category_2</td>\n",
       "      <td>6</td>\n",
       "    </tr>\n",
       "    <tr>\n",
       "      <th>3592</th>\n",
       "      <td>58</td>\n",
       "      <td>1105027</td>\n",
       "      <td>category_2</td>\n",
       "      <td>14</td>\n",
       "    </tr>\n",
       "  </tbody>\n",
       "</table>\n",
       "<p>3593 rows × 4 columns</p>\n",
       "</div>"
      ],
      "text/plain": [
       "      Week  ItemCode CategoryCode  WeeklySales\n",
       "0       40      3418   category_1           42\n",
       "1       40      3427   category_1           40\n",
       "2       40      7666   category_3          119\n",
       "3       40      9925   category_2            9\n",
       "4       40     16936   category_3           25\n",
       "...    ...       ...          ...          ...\n",
       "3588    58   1101769   category_2           33\n",
       "3589    58   1103056   category_2           10\n",
       "3590    58   1105009   category_2           11\n",
       "3591    58   1105018   category_2            6\n",
       "3592    58   1105027   category_2           14\n",
       "\n",
       "[3593 rows x 4 columns]"
      ]
     },
     "execution_count": 19,
     "metadata": {},
     "output_type": "execute_result"
    }
   ],
   "source": [
    "train"
   ]
  },
  {
   "cell_type": "markdown",
   "id": "56dfc156",
   "metadata": {
    "papermill": {
     "duration": 0.059937,
     "end_time": "2022-03-27T01:00:30.292824",
     "exception": false,
     "start_time": "2022-03-27T01:00:30.232887",
     "status": "completed"
    },
    "tags": []
   },
   "source": [
    "#### One hot encoding to add dummy variables for the Category Codes"
   ]
  },
  {
   "cell_type": "code",
   "execution_count": 20,
   "id": "0f73eed4",
   "metadata": {
    "execution": {
     "iopub.execute_input": "2022-03-27T01:00:30.423252Z",
     "iopub.status.busy": "2022-03-27T01:00:30.422570Z",
     "iopub.status.idle": "2022-03-27T01:00:30.429893Z",
     "shell.execute_reply": "2022-03-27T01:00:30.430545Z",
     "shell.execute_reply.started": "2022-03-27T00:56:38.797835Z"
    },
    "papermill": {
     "duration": 0.077219,
     "end_time": "2022-03-27T01:00:30.430742",
     "exception": false,
     "start_time": "2022-03-27T01:00:30.353523",
     "status": "completed"
    },
    "tags": []
   },
   "outputs": [],
   "source": [
    "# Using one-hot encoding to get dummy variables for the category the item belongs to\n",
    "# we can drop one of the columns from these dummy varibles. We will drop the first column\n",
    "\n",
    "categories_train = pd.get_dummies(train.CategoryCode, drop_first = True)\n",
    "categories_vali = pd.get_dummies(vali.CategoryCode, drop_first = True)\n",
    "categories_test = pd.get_dummies(test.CategoryCode, drop_first = True)"
   ]
  },
  {
   "cell_type": "code",
   "execution_count": 21,
   "id": "5b203dfb",
   "metadata": {
    "execution": {
     "iopub.execute_input": "2022-03-27T01:00:30.554282Z",
     "iopub.status.busy": "2022-03-27T01:00:30.553594Z",
     "iopub.status.idle": "2022-03-27T01:00:30.559836Z",
     "shell.execute_reply": "2022-03-27T01:00:30.560500Z",
     "shell.execute_reply.started": "2022-03-27T00:56:38.814048Z"
    },
    "papermill": {
     "duration": 0.069368,
     "end_time": "2022-03-27T01:00:30.560675",
     "exception": false,
     "start_time": "2022-03-27T01:00:30.491307",
     "status": "completed"
    },
    "tags": []
   },
   "outputs": [],
   "source": [
    "# Adding the dummy variables for Item Categories\n",
    "train = pd.concat([train, categories_train], axis=1)\n",
    "vali = pd.concat([vali, categories_vali], axis=1)\n",
    "test = pd.concat([test, categories_test], axis=1)"
   ]
  },
  {
   "cell_type": "code",
   "execution_count": 22,
   "id": "38aa7d1e",
   "metadata": {
    "execution": {
     "iopub.execute_input": "2022-03-27T01:00:30.686366Z",
     "iopub.status.busy": "2022-03-27T01:00:30.685652Z",
     "iopub.status.idle": "2022-03-27T01:00:30.690542Z",
     "shell.execute_reply": "2022-03-27T01:00:30.691115Z",
     "shell.execute_reply.started": "2022-03-27T00:56:38.829819Z"
    },
    "papermill": {
     "duration": 0.070928,
     "end_time": "2022-03-27T01:00:30.691318",
     "exception": false,
     "start_time": "2022-03-27T01:00:30.620390",
     "status": "completed"
    },
    "tags": []
   },
   "outputs": [],
   "source": [
    "# Removing the original column for Category Codes\n",
    "train.drop('CategoryCode', axis=1, inplace = True)\n",
    "vali.drop('CategoryCode', axis=1, inplace = True)\n",
    "test.drop('CategoryCode', axis=1, inplace = True)"
   ]
  },
  {
   "cell_type": "markdown",
   "id": "b6e3f8aa",
   "metadata": {
    "papermill": {
     "duration": 0.059687,
     "end_time": "2022-03-27T01:00:30.810747",
     "exception": false,
     "start_time": "2022-03-27T01:00:30.751060",
     "status": "completed"
    },
    "tags": []
   },
   "source": [
    "#### Correlations with Features"
   ]
  },
  {
   "cell_type": "code",
   "execution_count": 23,
   "id": "c5ddcb61",
   "metadata": {
    "execution": {
     "iopub.execute_input": "2022-03-27T01:00:30.934135Z",
     "iopub.status.busy": "2022-03-27T01:00:30.933489Z",
     "iopub.status.idle": "2022-03-27T01:00:32.543473Z",
     "shell.execute_reply": "2022-03-27T01:00:32.542815Z",
     "shell.execute_reply.started": "2022-03-27T00:56:38.853229Z"
    },
    "papermill": {
     "duration": 1.672923,
     "end_time": "2022-03-27T01:00:32.543624",
     "exception": false,
     "start_time": "2022-03-27T01:00:30.870701",
     "status": "completed"
    },
    "tags": []
   },
   "outputs": [
    {
     "data": {
      "text/plain": [
       "<AxesSubplot:>"
      ]
     },
     "execution_count": 23,
     "metadata": {},
     "output_type": "execute_result"
    },
    {
     "data": {
      "image/png": "[encoded data removed]",
      "text/plain": [
       "<Figure size 432x288 with 2 Axes>"
      ]
     },
     "metadata": {
      "needs_background": "light"
     },
     "output_type": "display_data"
    }
   ],
   "source": [
    "## correlation of all features with each other\n",
    "import seaborn as sns\n",
    "sns.heatmap(train.corr(), annot=True)"
   ]
  },
  {
   "cell_type": "markdown",
   "id": "28222359",
   "metadata": {
    "papermill": {
     "duration": 0.061685,
     "end_time": "2022-03-27T01:00:32.667995",
     "exception": false,
     "start_time": "2022-03-27T01:00:32.606310",
     "status": "completed"
    },
    "tags": []
   },
   "source": [
    "## Modelling the Data"
   ]
  },
  {
   "cell_type": "markdown",
   "id": "f6e3d61b",
   "metadata": {
    "papermill": {
     "duration": 0.061785,
     "end_time": "2022-03-27T01:00:32.791695",
     "exception": false,
     "start_time": "2022-03-27T01:00:32.729910",
     "status": "completed"
    },
    "tags": []
   },
   "source": [
    "#### Selecting the features and Target variables from training set and validation set"
   ]
  },
  {
   "cell_type": "code",
   "execution_count": 24,
   "id": "a652c723",
   "metadata": {
    "execution": {
     "iopub.execute_input": "2022-03-27T01:00:32.920383Z",
     "iopub.status.busy": "2022-03-27T01:00:32.919322Z",
     "iopub.status.idle": "2022-03-27T01:00:32.925355Z",
     "shell.execute_reply": "2022-03-27T01:00:32.925920Z",
     "shell.execute_reply.started": "2022-03-27T00:56:40.510486Z"
    },
    "papermill": {
     "duration": 0.072255,
     "end_time": "2022-03-27T01:00:32.926121",
     "exception": false,
     "start_time": "2022-03-27T01:00:32.853866",
     "status": "completed"
    },
    "tags": []
   },
   "outputs": [],
   "source": [
    "## Training Set split\n",
    "Train_Y = train['WeeklySales']\n",
    "Train_X = train[['Week','ItemCode','category_2','category_3','category_4']]"
   ]
  },
  {
   "cell_type": "code",
   "execution_count": 25,
   "id": "05c36e0f",
   "metadata": {
    "execution": {
     "iopub.execute_input": "2022-03-27T01:00:33.056353Z",
     "iopub.status.busy": "2022-03-27T01:00:33.053085Z",
     "iopub.status.idle": "2022-03-27T01:00:33.058320Z",
     "shell.execute_reply": "2022-03-27T01:00:33.058824Z",
     "shell.execute_reply.started": "2022-03-27T00:56:40.518534Z"
    },
    "papermill": {
     "duration": 0.070995,
     "end_time": "2022-03-27T01:00:33.059001",
     "exception": false,
     "start_time": "2022-03-27T01:00:32.988006",
     "status": "completed"
    },
    "tags": []
   },
   "outputs": [],
   "source": [
    "## Validation Set split\n",
    "Vali_Y = vali['WeeklySales']\n",
    "Vali_X = vali[['Week','ItemCode','category_2','category_3','category_4']]"
   ]
  },
  {
   "cell_type": "markdown",
   "id": "7c095dfd",
   "metadata": {
    "papermill": {
     "duration": 0.06178,
     "end_time": "2022-03-27T01:00:33.182356",
     "exception": false,
     "start_time": "2022-03-27T01:00:33.120576",
     "status": "completed"
    },
    "tags": []
   },
   "source": [
    "### Decision Tree Modelling"
   ]
  },
  {
   "cell_type": "code",
   "execution_count": 26,
   "id": "55cc2c49",
   "metadata": {
    "execution": {
     "iopub.execute_input": "2022-03-27T01:00:33.310702Z",
     "iopub.status.busy": "2022-03-27T01:00:33.309659Z",
     "iopub.status.idle": "2022-03-27T01:00:33.653444Z",
     "shell.execute_reply": "2022-03-27T01:00:33.652716Z",
     "shell.execute_reply.started": "2022-03-27T00:56:40.530626Z"
    },
    "papermill": {
     "duration": 0.409682,
     "end_time": "2022-03-27T01:00:33.653610",
     "exception": false,
     "start_time": "2022-03-27T01:00:33.243928",
     "status": "completed"
    },
    "tags": []
   },
   "outputs": [],
   "source": [
    "## importing Decision Tree Regressor\n",
    "from sklearn.tree import DecisionTreeRegressor\n",
    "\n",
    "## Importing the library to evaluate model performance - MAPE\n",
    "from sklearn.metrics import mean_absolute_percentage_error"
   ]
  },
  {
   "cell_type": "markdown",
   "id": "a7d74bf5",
   "metadata": {
    "papermill": {
     "duration": 0.062009,
     "end_time": "2022-03-27T01:00:33.778684",
     "exception": false,
     "start_time": "2022-03-27T01:00:33.716675",
     "status": "completed"
    },
    "tags": []
   },
   "source": [
    "We will use an utility function to find the best Decision Tree with the most suitable number of leaf nodes which outputs the lowest error (lowest Mean Absolute Percentage Error)"
   ]
  },
  {
   "cell_type": "code",
   "execution_count": 27,
   "id": "1196c349",
   "metadata": {
    "execution": {
     "iopub.execute_input": "2022-03-27T01:00:33.911345Z",
     "iopub.status.busy": "2022-03-27T01:00:33.910396Z",
     "iopub.status.idle": "2022-03-27T01:00:33.912796Z",
     "shell.execute_reply": "2022-03-27T01:00:33.913383Z",
     "shell.execute_reply.started": "2022-03-27T00:56:40.886998Z"
    },
    "papermill": {
     "duration": 0.072779,
     "end_time": "2022-03-27T01:00:33.913567",
     "exception": false,
     "start_time": "2022-03-27T01:00:33.840788",
     "status": "completed"
    },
    "tags": []
   },
   "outputs": [],
   "source": [
    "# possible leaf node values to experiment\n",
    "candidate_leaf_nodes = [25,50,75,100,125,150,175,200,225,250]\n",
    "\n",
    "# utility function\n",
    "def get_mape(leaf_nodes, Train_X, Vali_X, Train_Y, Vali_Y):\n",
    "    T_Model = DecisionTreeRegressor(max_leaf_nodes = leaf_nodes, random_state=0)\n",
    "    \n",
    "    # applying the model and obatining our prediction\n",
    "    T_Model.fit(Train_X, Train_Y)\n",
    "    T_Pred_Y = T_Model.predict(Vali_X)\n",
    "    \n",
    "    # using mape to compare each model dependent on the leaf nodes\n",
    "    mape = mean_absolute_percentage_error(Vali_Y, T_Pred_Y).round(5)\n",
    "    print(leaf_nodes , mape)\n",
    "    return mape"
   ]
  },
  {
   "cell_type": "code",
   "execution_count": 28,
   "id": "01067f71",
   "metadata": {
    "execution": {
     "iopub.execute_input": "2022-03-27T01:00:34.041730Z",
     "iopub.status.busy": "2022-03-27T01:00:34.040680Z",
     "iopub.status.idle": "2022-03-27T01:00:34.127359Z",
     "shell.execute_reply": "2022-03-27T01:00:34.126612Z",
     "shell.execute_reply.started": "2022-03-27T00:56:40.894900Z"
    },
    "papermill": {
     "duration": 0.151582,
     "end_time": "2022-03-27T01:00:34.127517",
     "exception": false,
     "start_time": "2022-03-27T01:00:33.975935",
     "status": "completed"
    },
    "tags": []
   },
   "outputs": [
    {
     "name": "stdout",
     "output_type": "stream",
     "text": [
      "25 1.17318\n",
      "50 1.0291\n",
      "75 0.9815\n",
      "100 0.91736\n",
      "125 0.89664\n",
      "150 0.78089\n",
      "175 0.7755\n",
      "200 0.77763\n",
      "225 0.77092\n",
      "250 0.78203\n",
      "\n",
      "Best Tree Size is 225\n"
     ]
    }
   ],
   "source": [
    "## a list of scores of mae and finding the lowest and mapping to the relevant leaf size\n",
    "scores = {leaf_size : get_mape(leaf_size, Train_X, Vali_X, Train_Y, Vali_Y) for leaf_size in candidate_leaf_nodes}\n",
    "\n",
    "## obtaining the best tree size for the Decision Tree using the above list\n",
    "best_tree_size = min(scores, key=scores.get)\n",
    "print('')\n",
    "print('Best Tree Size is ' + str(best_tree_size))\n"
   ]
  },
  {
   "cell_type": "markdown",
   "id": "a94255e6",
   "metadata": {
    "papermill": {
     "duration": 0.064033,
     "end_time": "2022-03-27T01:00:34.254716",
     "exception": false,
     "start_time": "2022-03-27T01:00:34.190683",
     "status": "completed"
    },
    "tags": []
   },
   "source": [
    "Using the results of the above analysis we can now define the Decision Tree Model for our data"
   ]
  },
  {
   "cell_type": "code",
   "execution_count": 29,
   "id": "6664de65",
   "metadata": {
    "execution": {
     "iopub.execute_input": "2022-03-27T01:00:34.387282Z",
     "iopub.status.busy": "2022-03-27T01:00:34.386219Z",
     "iopub.status.idle": "2022-03-27T01:00:34.389522Z",
     "shell.execute_reply": "2022-03-27T01:00:34.388793Z",
     "shell.execute_reply.started": "2022-03-27T00:56:40.990649Z"
    },
    "papermill": {
     "duration": 0.071947,
     "end_time": "2022-03-27T01:00:34.389677",
     "exception": false,
     "start_time": "2022-03-27T01:00:34.317730",
     "status": "completed"
    },
    "tags": []
   },
   "outputs": [],
   "source": [
    "## defining the Decision Tree Model\n",
    "TreeModel = DecisionTreeRegressor(max_leaf_nodes = best_tree_size, random_state=0)"
   ]
  },
  {
   "cell_type": "code",
   "execution_count": 30,
   "id": "a74e6691",
   "metadata": {
    "execution": {
     "iopub.execute_input": "2022-03-27T01:00:34.525239Z",
     "iopub.status.busy": "2022-03-27T01:00:34.524232Z",
     "iopub.status.idle": "2022-03-27T01:00:34.534231Z",
     "shell.execute_reply": "2022-03-27T01:00:34.533564Z",
     "shell.execute_reply.started": "2022-03-27T00:56:40.997630Z"
    },
    "papermill": {
     "duration": 0.080537,
     "end_time": "2022-03-27T01:00:34.534385",
     "exception": false,
     "start_time": "2022-03-27T01:00:34.453848",
     "status": "completed"
    },
    "tags": []
   },
   "outputs": [
    {
     "data": {
      "text/plain": [
       "DecisionTreeRegressor(max_leaf_nodes=225, random_state=0)"
      ]
     },
     "execution_count": 30,
     "metadata": {},
     "output_type": "execute_result"
    }
   ],
   "source": [
    "## fitting the data to the linear regression model\n",
    "TreeModel.fit(Train_X , Train_Y)"
   ]
  },
  {
   "cell_type": "code",
   "execution_count": 31,
   "id": "fed35a55",
   "metadata": {
    "execution": {
     "iopub.execute_input": "2022-03-27T01:00:34.668091Z",
     "iopub.status.busy": "2022-03-27T01:00:34.667375Z",
     "iopub.status.idle": "2022-03-27T01:00:34.670195Z",
     "shell.execute_reply": "2022-03-27T01:00:34.669475Z",
     "shell.execute_reply.started": "2022-03-27T00:56:41.019027Z"
    },
    "papermill": {
     "duration": 0.072895,
     "end_time": "2022-03-27T01:00:34.670358",
     "exception": false,
     "start_time": "2022-03-27T01:00:34.597463",
     "status": "completed"
    },
    "tags": []
   },
   "outputs": [],
   "source": [
    "## Deriving the predictions for the input features of the Validation dataset\n",
    "Pred_Vali = TreeModel.predict(Vali_X)"
   ]
  },
  {
   "cell_type": "code",
   "execution_count": 32,
   "id": "ba0b91bc",
   "metadata": {
    "execution": {
     "iopub.execute_input": "2022-03-27T01:00:34.805702Z",
     "iopub.status.busy": "2022-03-27T01:00:34.803045Z",
     "iopub.status.idle": "2022-03-27T01:00:34.810058Z",
     "shell.execute_reply": "2022-03-27T01:00:34.809501Z",
     "shell.execute_reply.started": "2022-03-27T00:56:41.026446Z"
    },
    "papermill": {
     "duration": 0.074481,
     "end_time": "2022-03-27T01:00:34.810245",
     "exception": false,
     "start_time": "2022-03-27T01:00:34.735764",
     "status": "completed"
    },
    "tags": []
   },
   "outputs": [
    {
     "data": {
      "text/plain": [
       "0.7709228274556803"
      ]
     },
     "execution_count": 32,
     "metadata": {},
     "output_type": "execute_result"
    }
   ],
   "source": [
    "## Applying the MAPE to the actual target data and predicted target data\n",
    "mean_absolute_percentage_error(Vali_Y, Pred_Vali)"
   ]
  },
  {
   "cell_type": "markdown",
   "id": "a125f2ab",
   "metadata": {
    "papermill": {
     "duration": 0.065595,
     "end_time": "2022-03-27T01:00:34.942566",
     "exception": false,
     "start_time": "2022-03-27T01:00:34.876971",
     "status": "completed"
    },
    "tags": []
   },
   "source": [
    "It achieved a better performace with the Decision Tree Model Optimizations than the linear regression (1.85969) when applied to the validation data\n"
   ]
  },
  {
   "cell_type": "markdown",
   "id": "85682cfc",
   "metadata": {
    "papermill": {
     "duration": 0.063373,
     "end_time": "2022-03-27T01:00:35.070950",
     "exception": false,
     "start_time": "2022-03-27T01:00:35.007577",
     "status": "completed"
    },
    "tags": []
   },
   "source": [
    "## Applying the Model to the Test Dataset"
   ]
  },
  {
   "cell_type": "code",
   "execution_count": 33,
   "id": "5b2756c3",
   "metadata": {
    "execution": {
     "iopub.execute_input": "2022-03-27T01:00:35.203292Z",
     "iopub.status.busy": "2022-03-27T01:00:35.202601Z",
     "iopub.status.idle": "2022-03-27T01:00:35.205559Z",
     "shell.execute_reply": "2022-03-27T01:00:35.204885Z",
     "shell.execute_reply.started": "2022-03-27T00:56:41.042498Z"
    },
    "papermill": {
     "duration": 0.071637,
     "end_time": "2022-03-27T01:00:35.205705",
     "exception": false,
     "start_time": "2022-03-27T01:00:35.134068",
     "status": "completed"
    },
    "tags": []
   },
   "outputs": [],
   "source": [
    "## Obtaining the test dataset for forecasting\n",
    "test = test[['Week','ItemCode','category_2','category_3','category_4']]"
   ]
  },
  {
   "cell_type": "code",
   "execution_count": 34,
   "id": "494f6161",
   "metadata": {
    "execution": {
     "iopub.execute_input": "2022-03-27T01:00:35.340343Z",
     "iopub.status.busy": "2022-03-27T01:00:35.339657Z",
     "iopub.status.idle": "2022-03-27T01:00:35.342426Z",
     "shell.execute_reply": "2022-03-27T01:00:35.341732Z",
     "shell.execute_reply.started": "2022-03-27T00:56:41.051147Z"
    },
    "papermill": {
     "duration": 0.073526,
     "end_time": "2022-03-27T01:00:35.342571",
     "exception": false,
     "start_time": "2022-03-27T01:00:35.269045",
     "status": "completed"
    },
    "tags": []
   },
   "outputs": [],
   "source": [
    "## Applying the model to the test dataset and obtaining the data as integers\n",
    "Pred_Test = TreeModel.predict(test).astype(int)"
   ]
  },
  {
   "cell_type": "code",
   "execution_count": 35,
   "id": "a54849d9",
   "metadata": {
    "execution": {
     "iopub.execute_input": "2022-03-27T01:00:35.474560Z",
     "iopub.status.busy": "2022-03-27T01:00:35.473855Z",
     "iopub.status.idle": "2022-03-27T01:00:35.477168Z",
     "shell.execute_reply": "2022-03-27T01:00:35.476623Z",
     "shell.execute_reply.started": "2022-03-27T00:56:41.063790Z"
    },
    "papermill": {
     "duration": 0.071581,
     "end_time": "2022-03-27T01:00:35.477314",
     "exception": false,
     "start_time": "2022-03-27T01:00:35.405733",
     "status": "completed"
    },
    "tags": []
   },
   "outputs": [],
   "source": [
    "submission_file = pd.DataFrame()"
   ]
  },
  {
   "cell_type": "code",
   "execution_count": 36,
   "id": "7683ba7b",
   "metadata": {
    "execution": {
     "iopub.execute_input": "2022-03-27T01:00:35.613259Z",
     "iopub.status.busy": "2022-03-27T01:00:35.612491Z",
     "iopub.status.idle": "2022-03-27T01:00:35.616836Z",
     "shell.execute_reply": "2022-03-27T01:00:35.616243Z",
     "shell.execute_reply.started": "2022-03-27T00:56:41.075621Z"
    },
    "papermill": {
     "duration": 0.076566,
     "end_time": "2022-03-27T01:00:35.616986",
     "exception": false,
     "start_time": "2022-03-27T01:00:35.540420",
     "status": "completed"
    },
    "tags": []
   },
   "outputs": [],
   "source": [
    "## creating submission dataset\n",
    "submission_file['ID'] = test_file['CategoryCode'].astype(str)+'_'+test_file['ItemCode'].astype(str)+'_'+test_file['Week']\n",
    "submission_file['WeeklySales'] = Pred_Test"
   ]
  },
  {
   "cell_type": "code",
   "execution_count": 37,
   "id": "a7a74ff4",
   "metadata": {
    "execution": {
     "iopub.execute_input": "2022-03-27T01:00:35.756166Z",
     "iopub.status.busy": "2022-03-27T01:00:35.755419Z",
     "iopub.status.idle": "2022-03-27T01:00:35.760231Z",
     "shell.execute_reply": "2022-03-27T01:00:35.759568Z",
     "shell.execute_reply.started": "2022-03-27T00:56:41.091068Z"
    },
    "papermill": {
     "duration": 0.079719,
     "end_time": "2022-03-27T01:00:35.760398",
     "exception": false,
     "start_time": "2022-03-27T01:00:35.680679",
     "status": "completed"
    },
    "tags": []
   },
   "outputs": [
    {
     "data": {
      "text/html": [
       "<div>\n",
       "<style scoped>\n",
       "    .dataframe tbody tr th:only-of-type {\n",
       "        vertical-align: middle;\n",
       "    }\n",
       "\n",
       "    .dataframe tbody tr th {\n",
       "        vertical-align: top;\n",
       "    }\n",
       "\n",
       "    .dataframe thead th {\n",
       "        text-align: right;\n",
       "    }\n",
       "</style>\n",
       "<table border=\"1\" class=\"dataframe\">\n",
       "  <thead>\n",
       "    <tr style=\"text-align: right;\">\n",
       "      <th></th>\n",
       "      <th>ID</th>\n",
       "      <th>WeeklySales</th>\n",
       "    </tr>\n",
       "  </thead>\n",
       "  <tbody>\n",
       "    <tr>\n",
       "      <th>0</th>\n",
       "      <td>category_1_43738_w4</td>\n",
       "      <td>13</td>\n",
       "    </tr>\n",
       "    <tr>\n",
       "      <th>1</th>\n",
       "      <td>category_2_1006090_w1</td>\n",
       "      <td>11</td>\n",
       "    </tr>\n",
       "    <tr>\n",
       "      <th>2</th>\n",
       "      <td>category_2_1076929_w4</td>\n",
       "      <td>13</td>\n",
       "    </tr>\n",
       "    <tr>\n",
       "      <th>3</th>\n",
       "      <td>category_1_1081321_w3</td>\n",
       "      <td>13</td>\n",
       "    </tr>\n",
       "    <tr>\n",
       "      <th>4</th>\n",
       "      <td>category_2_216151_w4</td>\n",
       "      <td>13</td>\n",
       "    </tr>\n",
       "    <tr>\n",
       "      <th>...</th>\n",
       "      <td>...</td>\n",
       "      <td>...</td>\n",
       "    </tr>\n",
       "    <tr>\n",
       "      <th>372</th>\n",
       "      <td>category_2_1101571_w1</td>\n",
       "      <td>13</td>\n",
       "    </tr>\n",
       "    <tr>\n",
       "      <th>373</th>\n",
       "      <td>category_2_1090258_w4</td>\n",
       "      <td>13</td>\n",
       "    </tr>\n",
       "    <tr>\n",
       "      <th>374</th>\n",
       "      <td>category_2_906595_w1</td>\n",
       "      <td>11</td>\n",
       "    </tr>\n",
       "    <tr>\n",
       "      <th>375</th>\n",
       "      <td>category_2_32245_w1</td>\n",
       "      <td>39</td>\n",
       "    </tr>\n",
       "    <tr>\n",
       "      <th>376</th>\n",
       "      <td>category_2_1006090_w2</td>\n",
       "      <td>11</td>\n",
       "    </tr>\n",
       "  </tbody>\n",
       "</table>\n",
       "<p>377 rows × 2 columns</p>\n",
       "</div>"
      ],
      "text/plain": [
       "                        ID  WeeklySales\n",
       "0      category_1_43738_w4           13\n",
       "1    category_2_1006090_w1           11\n",
       "2    category_2_1076929_w4           13\n",
       "3    category_1_1081321_w3           13\n",
       "4     category_2_216151_w4           13\n",
       "..                     ...          ...\n",
       "372  category_2_1101571_w1           13\n",
       "373  category_2_1090258_w4           13\n",
       "374   category_2_906595_w1           11\n",
       "375    category_2_32245_w1           39\n",
       "376  category_2_1006090_w2           11\n",
       "\n",
       "[377 rows x 2 columns]"
      ]
     },
     "execution_count": 37,
     "metadata": {},
     "output_type": "execute_result"
    }
   ],
   "source": [
    "submission_file"
   ]
  },
  {
   "cell_type": "code",
   "execution_count": 38,
   "id": "dcd02b38",
   "metadata": {
    "execution": {
     "iopub.execute_input": "2022-03-27T01:00:35.896111Z",
     "iopub.status.busy": "2022-03-27T01:00:35.895067Z",
     "iopub.status.idle": "2022-03-27T01:00:35.901508Z",
     "shell.execute_reply": "2022-03-27T01:00:35.900788Z",
     "shell.execute_reply.started": "2022-03-27T00:56:41.106996Z"
    },
    "papermill": {
     "duration": 0.075769,
     "end_time": "2022-03-27T01:00:35.901659",
     "exception": false,
     "start_time": "2022-03-27T01:00:35.825890",
     "status": "completed"
    },
    "tags": []
   },
   "outputs": [],
   "source": [
    "## Obtaining the solutions as a CSV file\n",
    "submission_file.to_csv('submission.csv', index=False)"
   ]
  }
 ],
 "metadata": {
  "kernelspec": {
   "display_name": "Python 3",
   "language": "python",
   "name": "python3"
  },
  "language_info": {
   "codemirror_mode": {
    "name": "ipython",
    "version": 3
   },
   "file_extension": ".py",
   "mimetype": "text/x-python",
   "name": "python",
   "nbconvert_exporter": "python",
   "pygments_lexer": "ipython3",
   "version": "3.7.12"
  },
  "papermill": {
   "default_parameters": {},
   "duration": 23.03369,
   "end_time": "2022-03-27T01:00:36.675891",
   "environment_variables": {},
   "exception": null,
   "input_path": "__notebook__.ipynb",
   "output_path": "__notebook__.ipynb",
   "parameters": {},
   "start_time": "2022-03-27T01:00:13.642201",
   "version": "2.3.3"
  }
 },
 "nbformat": 4,
 "nbformat_minor": 5
}
